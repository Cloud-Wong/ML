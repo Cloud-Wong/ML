{
 "cells": [
  {
   "cell_type": "code",
   "execution_count": 29,
   "metadata": {},
   "outputs": [],
   "source": [
    "import numpy as np\n",
    "import scipy.io as sio\n",
    "from sklearn.metrics import classification_report#这个包是评价报告"
   ]
  },
  {
   "cell_type": "code",
   "execution_count": 12,
   "metadata": {},
   "outputs": [
    {
     "data": {
      "text/plain": [
       "((25, 401), (10, 26), (5000, 400), (5000, 1))"
      ]
     },
     "execution_count": 12,
     "metadata": {},
     "output_type": "execute_result"
    }
   ],
   "source": [
    "#载入数据\n",
    "data = sio.loadmat('ex3weights.mat')\n",
    "Theta1,Theta2 = data['Theta1'],data['Theta2']\n",
    "data = sio.loadmat('ex3data1.mat')\n",
    "X , y = data['X'],data['y']\n",
    "Theta1.shape , Theta2.shape , X.shape, y.shape"
   ]
  },
  {
   "cell_type": "code",
   "execution_count": 15,
   "metadata": {},
   "outputs": [],
   "source": [
    "def sigmoid(z):\n",
    "    return 1 / (1 + np.exp(-z))"
   ]
  },
  {
   "cell_type": "code",
   "execution_count": 21,
   "metadata": {},
   "outputs": [],
   "source": [
    "a_1 = np.insert(X,0,np.ones(X.shape[0]),axis=1)\n",
    "z_2 = a_1 @ Theta1.T   # (5000,401)*(401,25) = (5000,25)\n",
    "a_2 = sigmoid(z_2)\n",
    "a_2 = np.insert(a_2,0,np.ones(a_2.shape[0]),axis=1)\n",
    "z_3 = a_2 @ Theta2.T   #(5000,26)*(26,10) = (5000,10)\n",
    "a_3 = sigmoid(z_3)"
   ]
  },
  {
   "cell_type": "code",
   "execution_count": 31,
   "metadata": {},
   "outputs": [
    {
     "name": "stdout",
     "output_type": "stream",
     "text": [
      "              precision    recall  f1-score   support\n",
      "\n",
      "           1       0.97      0.98      0.98       500\n",
      "           2       0.98      0.97      0.98       500\n",
      "           3       0.98      0.96      0.97       500\n",
      "           4       0.97      0.97      0.97       500\n",
      "           5       0.97      0.98      0.98       500\n",
      "           6       0.98      0.99      0.98       500\n",
      "           7       0.98      0.97      0.97       500\n",
      "           8       0.98      0.98      0.98       500\n",
      "           9       0.97      0.96      0.96       500\n",
      "          10       0.98      0.99      0.99       500\n",
      "\n",
      "   micro avg       0.98      0.98      0.98      5000\n",
      "   macro avg       0.98      0.98      0.98      5000\n",
      "weighted avg       0.98      0.98      0.98      5000\n",
      "\n"
     ]
    }
   ],
   "source": [
    "y_pred = np.argmax(a_3, axis=1) + 1  \n",
    "print(classification_report(y,y_pred))"
   ]
  },
  {
   "cell_type": "code",
   "execution_count": null,
   "metadata": {},
   "outputs": [],
   "source": []
  }
 ],
 "metadata": {
  "kernelspec": {
   "display_name": "Python 3",
   "language": "python",
   "name": "python3"
  },
  "language_info": {
   "codemirror_mode": {
    "name": "ipython",
    "version": 3
   },
   "file_extension": ".py",
   "mimetype": "text/x-python",
   "name": "python",
   "nbconvert_exporter": "python",
   "pygments_lexer": "ipython3",
   "version": "3.7.1"
  }
 },
 "nbformat": 4,
 "nbformat_minor": 2
}
